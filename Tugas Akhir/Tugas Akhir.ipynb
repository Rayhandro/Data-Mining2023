{
  "nbformat": 4,
  "nbformat_minor": 0,
  "metadata": {
    "colab": {
      "provenance": []
    },
    "kernelspec": {
      "name": "python3",
      "display_name": "Python 3"
    },
    "language_info": {
      "name": "python"
    }
  },
  "cells": [
    {
      "cell_type": "code",
      "execution_count": 1,
      "metadata": {
        "id": "jW-y_5u3NApU"
      },
      "outputs": [],
      "source": [
        "import pandas as pd\n",
        "import numpy as np\n",
        "import matplotlib.pyplot as plt\n",
        "import sklearn.metrics as metrics"
      ]
    },
    {
      "cell_type": "code",
      "source": [
        "row_data = pd.read_csv('datarumah.csv')\n",
        "row_data.shape"
      ],
      "metadata": {
        "colab": {
          "base_uri": "https://localhost:8080/"
        },
        "id": "4V-rJHEFJXBW",
        "outputId": "ce8af5fd-e5f9-4cd0-8500-581c81f08050"
      },
      "execution_count": 2,
      "outputs": [
        {
          "output_type": "execute_result",
          "data": {
            "text/plain": [
              "(1010, 8)"
            ]
          },
          "metadata": {},
          "execution_count": 2
        }
      ]
    },
    {
      "cell_type": "code",
      "source": [
        "row_data.describe"
      ],
      "metadata": {
        "colab": {
          "base_uri": "https://localhost:8080/"
        },
        "id": "qpp8ImHiu6Ap",
        "outputId": "a79b3b25-efc0-4cd7-e7b5-651315e25309"
      },
      "execution_count": 3,
      "outputs": [
        {
          "output_type": "execute_result",
          "data": {
            "text/plain": [
              "<bound method NDFrame.describe of         NO                                         NAMA RUMAH        HARGA  \\\n",
              "0        1  Rumah Murah Hook Tebet Timur, Tebet, Jakarta S...   3800000000   \n",
              "1        2  Rumah Modern di Tebet dekat Stasiun, Tebet, Ja...   4600000000   \n",
              "2        3  Rumah Mewah 2 Lantai Hanya 3 Menit Ke Tebet, T...   3000000000   \n",
              "3        4           Rumah Baru Tebet, Tebet, Jakarta Selatan    430000000   \n",
              "4        5  Rumah Bagus Tebet komp Gudang Peluru lt 350m, ...   9000000000   \n",
              "...    ...                                                ...          ...   \n",
              "1005  1006  Rumah Strategis Akses Jalan 2mobil Di Menteng ...   9000000000   \n",
              "1006  1007             Tebet Rumah Siap Huni Jln 2 Mbl Nyaman   4000000000   \n",
              "1007  1008        Di Kebun Baru Rumah Terawat, Area Strategis   4000000000   \n",
              "1008  1009  Dijual Cepat Rumah Komp Depkeu Dr Soepomo Tebe...  19000000000   \n",
              "1009  1010                Dijual Rumah Kokoh Di Gudang Peluru  10500000000   \n",
              "\n",
              "       LB   LT  KT  KM  GRS  \n",
              "0     220  220   3   3    0  \n",
              "1     180  137   4   3    2  \n",
              "2     267  250   4   4    4  \n",
              "3      40   25   2   2    0  \n",
              "4     400  355   6   5    3  \n",
              "...   ...  ...  ..  ..  ...  \n",
              "1005  450  550  10  10    3  \n",
              "1006  160  140   4   3    2  \n",
              "1007  139  230   4   4    1  \n",
              "1008  360  606   7   4    0  \n",
              "1009  420  430   7   4    2  \n",
              "\n",
              "[1010 rows x 8 columns]>"
            ]
          },
          "metadata": {},
          "execution_count": 3
        }
      ]
    },
    {
      "cell_type": "code",
      "source": [
        "data = row_data.dropna(axis=0)\n",
        "data.describe()"
      ],
      "metadata": {
        "colab": {
          "base_uri": "https://localhost:8080/",
          "height": 300
        },
        "id": "VQx2EU3Vu7oi",
        "outputId": "2c7a9eda-32b8-49b6-e5fd-3d93f1b4443e"
      },
      "execution_count": 4,
      "outputs": [
        {
          "output_type": "execute_result",
          "data": {
            "text/plain": [
              "                NO         HARGA           LB           LT           KT  \\\n",
              "count  1010.000000  1.010000e+03  1010.000000  1010.000000  1010.000000   \n",
              "mean    505.500000  7.628987e+09   276.539604   237.432673     4.668317   \n",
              "std     291.706188  7.340946e+09   177.864557   179.957604     1.572776   \n",
              "min       1.000000  4.300000e+08    40.000000    25.000000     2.000000   \n",
              "25%     253.250000  3.262500e+09   150.000000   130.000000     4.000000   \n",
              "50%     505.500000  5.000000e+09   216.500000   165.000000     4.000000   \n",
              "75%     757.750000  9.000000e+09   350.000000   290.000000     5.000000   \n",
              "max    1010.000000  6.500000e+10  1126.000000  1400.000000    10.000000   \n",
              "\n",
              "                KM          GRS  \n",
              "count  1010.000000  1010.000000  \n",
              "mean      3.607921     1.920792  \n",
              "std       1.420066     1.510998  \n",
              "min       1.000000     0.000000  \n",
              "25%       3.000000     1.000000  \n",
              "50%       3.000000     2.000000  \n",
              "75%       4.000000     2.000000  \n",
              "max      10.000000    10.000000  "
            ],
            "text/html": [
              "\n",
              "\n",
              "  <div id=\"df-c8890aa3-93d5-4b6b-9397-40c6249cec00\">\n",
              "    <div class=\"colab-df-container\">\n",
              "      <div>\n",
              "<style scoped>\n",
              "    .dataframe tbody tr th:only-of-type {\n",
              "        vertical-align: middle;\n",
              "    }\n",
              "\n",
              "    .dataframe tbody tr th {\n",
              "        vertical-align: top;\n",
              "    }\n",
              "\n",
              "    .dataframe thead th {\n",
              "        text-align: right;\n",
              "    }\n",
              "</style>\n",
              "<table border=\"1\" class=\"dataframe\">\n",
              "  <thead>\n",
              "    <tr style=\"text-align: right;\">\n",
              "      <th></th>\n",
              "      <th>NO</th>\n",
              "      <th>HARGA</th>\n",
              "      <th>LB</th>\n",
              "      <th>LT</th>\n",
              "      <th>KT</th>\n",
              "      <th>KM</th>\n",
              "      <th>GRS</th>\n",
              "    </tr>\n",
              "  </thead>\n",
              "  <tbody>\n",
              "    <tr>\n",
              "      <th>count</th>\n",
              "      <td>1010.000000</td>\n",
              "      <td>1.010000e+03</td>\n",
              "      <td>1010.000000</td>\n",
              "      <td>1010.000000</td>\n",
              "      <td>1010.000000</td>\n",
              "      <td>1010.000000</td>\n",
              "      <td>1010.000000</td>\n",
              "    </tr>\n",
              "    <tr>\n",
              "      <th>mean</th>\n",
              "      <td>505.500000</td>\n",
              "      <td>7.628987e+09</td>\n",
              "      <td>276.539604</td>\n",
              "      <td>237.432673</td>\n",
              "      <td>4.668317</td>\n",
              "      <td>3.607921</td>\n",
              "      <td>1.920792</td>\n",
              "    </tr>\n",
              "    <tr>\n",
              "      <th>std</th>\n",
              "      <td>291.706188</td>\n",
              "      <td>7.340946e+09</td>\n",
              "      <td>177.864557</td>\n",
              "      <td>179.957604</td>\n",
              "      <td>1.572776</td>\n",
              "      <td>1.420066</td>\n",
              "      <td>1.510998</td>\n",
              "    </tr>\n",
              "    <tr>\n",
              "      <th>min</th>\n",
              "      <td>1.000000</td>\n",
              "      <td>4.300000e+08</td>\n",
              "      <td>40.000000</td>\n",
              "      <td>25.000000</td>\n",
              "      <td>2.000000</td>\n",
              "      <td>1.000000</td>\n",
              "      <td>0.000000</td>\n",
              "    </tr>\n",
              "    <tr>\n",
              "      <th>25%</th>\n",
              "      <td>253.250000</td>\n",
              "      <td>3.262500e+09</td>\n",
              "      <td>150.000000</td>\n",
              "      <td>130.000000</td>\n",
              "      <td>4.000000</td>\n",
              "      <td>3.000000</td>\n",
              "      <td>1.000000</td>\n",
              "    </tr>\n",
              "    <tr>\n",
              "      <th>50%</th>\n",
              "      <td>505.500000</td>\n",
              "      <td>5.000000e+09</td>\n",
              "      <td>216.500000</td>\n",
              "      <td>165.000000</td>\n",
              "      <td>4.000000</td>\n",
              "      <td>3.000000</td>\n",
              "      <td>2.000000</td>\n",
              "    </tr>\n",
              "    <tr>\n",
              "      <th>75%</th>\n",
              "      <td>757.750000</td>\n",
              "      <td>9.000000e+09</td>\n",
              "      <td>350.000000</td>\n",
              "      <td>290.000000</td>\n",
              "      <td>5.000000</td>\n",
              "      <td>4.000000</td>\n",
              "      <td>2.000000</td>\n",
              "    </tr>\n",
              "    <tr>\n",
              "      <th>max</th>\n",
              "      <td>1010.000000</td>\n",
              "      <td>6.500000e+10</td>\n",
              "      <td>1126.000000</td>\n",
              "      <td>1400.000000</td>\n",
              "      <td>10.000000</td>\n",
              "      <td>10.000000</td>\n",
              "      <td>10.000000</td>\n",
              "    </tr>\n",
              "  </tbody>\n",
              "</table>\n",
              "</div>\n",
              "      <button class=\"colab-df-convert\" onclick=\"convertToInteractive('df-c8890aa3-93d5-4b6b-9397-40c6249cec00')\"\n",
              "              title=\"Convert this dataframe to an interactive table.\"\n",
              "              style=\"display:none;\">\n",
              "\n",
              "  <svg xmlns=\"http://www.w3.org/2000/svg\" height=\"24px\"viewBox=\"0 0 24 24\"\n",
              "       width=\"24px\">\n",
              "    <path d=\"M0 0h24v24H0V0z\" fill=\"none\"/>\n",
              "    <path d=\"M18.56 5.44l.94 2.06.94-2.06 2.06-.94-2.06-.94-.94-2.06-.94 2.06-2.06.94zm-11 1L8.5 8.5l.94-2.06 2.06-.94-2.06-.94L8.5 2.5l-.94 2.06-2.06.94zm10 10l.94 2.06.94-2.06 2.06-.94-2.06-.94-.94-2.06-.94 2.06-2.06.94z\"/><path d=\"M17.41 7.96l-1.37-1.37c-.4-.4-.92-.59-1.43-.59-.52 0-1.04.2-1.43.59L10.3 9.45l-7.72 7.72c-.78.78-.78 2.05 0 2.83L4 21.41c.39.39.9.59 1.41.59.51 0 1.02-.2 1.41-.59l7.78-7.78 2.81-2.81c.8-.78.8-2.07 0-2.86zM5.41 20L4 18.59l7.72-7.72 1.47 1.35L5.41 20z\"/>\n",
              "  </svg>\n",
              "      </button>\n",
              "\n",
              "\n",
              "\n",
              "    <div id=\"df-0e54a99b-cb6f-47da-895e-8784df1a6ccd\">\n",
              "      <button class=\"colab-df-quickchart\" onclick=\"quickchart('df-0e54a99b-cb6f-47da-895e-8784df1a6ccd')\"\n",
              "              title=\"Suggest charts.\"\n",
              "              style=\"display:none;\">\n",
              "\n",
              "<svg xmlns=\"http://www.w3.org/2000/svg\" height=\"24px\"viewBox=\"0 0 24 24\"\n",
              "     width=\"24px\">\n",
              "    <g>\n",
              "        <path d=\"M19 3H5c-1.1 0-2 .9-2 2v14c0 1.1.9 2 2 2h14c1.1 0 2-.9 2-2V5c0-1.1-.9-2-2-2zM9 17H7v-7h2v7zm4 0h-2V7h2v10zm4 0h-2v-4h2v4z\"/>\n",
              "    </g>\n",
              "</svg>\n",
              "      </button>\n",
              "    </div>\n",
              "\n",
              "<style>\n",
              "  .colab-df-quickchart {\n",
              "    background-color: #E8F0FE;\n",
              "    border: none;\n",
              "    border-radius: 50%;\n",
              "    cursor: pointer;\n",
              "    display: none;\n",
              "    fill: #1967D2;\n",
              "    height: 32px;\n",
              "    padding: 0 0 0 0;\n",
              "    width: 32px;\n",
              "  }\n",
              "\n",
              "  .colab-df-quickchart:hover {\n",
              "    background-color: #E2EBFA;\n",
              "    box-shadow: 0px 1px 2px rgba(60, 64, 67, 0.3), 0px 1px 3px 1px rgba(60, 64, 67, 0.15);\n",
              "    fill: #174EA6;\n",
              "  }\n",
              "\n",
              "  [theme=dark] .colab-df-quickchart {\n",
              "    background-color: #3B4455;\n",
              "    fill: #D2E3FC;\n",
              "  }\n",
              "\n",
              "  [theme=dark] .colab-df-quickchart:hover {\n",
              "    background-color: #434B5C;\n",
              "    box-shadow: 0px 1px 3px 1px rgba(0, 0, 0, 0.15);\n",
              "    filter: drop-shadow(0px 1px 2px rgba(0, 0, 0, 0.3));\n",
              "    fill: #FFFFFF;\n",
              "  }\n",
              "</style>\n",
              "\n",
              "    <script>\n",
              "      async function quickchart(key) {\n",
              "        const containerElement = document.querySelector('#' + key);\n",
              "        const charts = await google.colab.kernel.invokeFunction(\n",
              "            'suggestCharts', [key], {});\n",
              "      }\n",
              "    </script>\n",
              "\n",
              "      <script>\n",
              "\n",
              "function displayQuickchartButton(domScope) {\n",
              "  let quickchartButtonEl =\n",
              "    domScope.querySelector('#df-0e54a99b-cb6f-47da-895e-8784df1a6ccd button.colab-df-quickchart');\n",
              "  quickchartButtonEl.style.display =\n",
              "    google.colab.kernel.accessAllowed ? 'block' : 'none';\n",
              "}\n",
              "\n",
              "        displayQuickchartButton(document);\n",
              "      </script>\n",
              "      <style>\n",
              "    .colab-df-container {\n",
              "      display:flex;\n",
              "      flex-wrap:wrap;\n",
              "      gap: 12px;\n",
              "    }\n",
              "\n",
              "    .colab-df-convert {\n",
              "      background-color: #E8F0FE;\n",
              "      border: none;\n",
              "      border-radius: 50%;\n",
              "      cursor: pointer;\n",
              "      display: none;\n",
              "      fill: #1967D2;\n",
              "      height: 32px;\n",
              "      padding: 0 0 0 0;\n",
              "      width: 32px;\n",
              "    }\n",
              "\n",
              "    .colab-df-convert:hover {\n",
              "      background-color: #E2EBFA;\n",
              "      box-shadow: 0px 1px 2px rgba(60, 64, 67, 0.3), 0px 1px 3px 1px rgba(60, 64, 67, 0.15);\n",
              "      fill: #174EA6;\n",
              "    }\n",
              "\n",
              "    [theme=dark] .colab-df-convert {\n",
              "      background-color: #3B4455;\n",
              "      fill: #D2E3FC;\n",
              "    }\n",
              "\n",
              "    [theme=dark] .colab-df-convert:hover {\n",
              "      background-color: #434B5C;\n",
              "      box-shadow: 0px 1px 3px 1px rgba(0, 0, 0, 0.15);\n",
              "      filter: drop-shadow(0px 1px 2px rgba(0, 0, 0, 0.3));\n",
              "      fill: #FFFFFF;\n",
              "    }\n",
              "  </style>\n",
              "\n",
              "      <script>\n",
              "        const buttonEl =\n",
              "          document.querySelector('#df-c8890aa3-93d5-4b6b-9397-40c6249cec00 button.colab-df-convert');\n",
              "        buttonEl.style.display =\n",
              "          google.colab.kernel.accessAllowed ? 'block' : 'none';\n",
              "\n",
              "        async function convertToInteractive(key) {\n",
              "          const element = document.querySelector('#df-c8890aa3-93d5-4b6b-9397-40c6249cec00');\n",
              "          const dataTable =\n",
              "            await google.colab.kernel.invokeFunction('convertToInteractive',\n",
              "                                                     [key], {});\n",
              "          if (!dataTable) return;\n",
              "\n",
              "          const docLinkHtml = 'Like what you see? Visit the ' +\n",
              "            '<a target=\"_blank\" href=https://colab.research.google.com/notebooks/data_table.ipynb>data table notebook</a>'\n",
              "            + ' to learn more about interactive tables.';\n",
              "          element.innerHTML = '';\n",
              "          dataTable['output_type'] = 'display_data';\n",
              "          await google.colab.output.renderOutput(dataTable, element);\n",
              "          const docLink = document.createElement('div');\n",
              "          docLink.innerHTML = docLinkHtml;\n",
              "          element.appendChild(docLink);\n",
              "        }\n",
              "      </script>\n",
              "    </div>\n",
              "  </div>\n"
            ]
          },
          "metadata": {},
          "execution_count": 4
        }
      ]
    },
    {
      "cell_type": "code",
      "source": [
        "print (row_data.dtypes)"
      ],
      "metadata": {
        "colab": {
          "base_uri": "https://localhost:8080/"
        },
        "id": "V_8i0seEu80P",
        "outputId": "e4e14d91-def2-4beb-d5a4-e1be5fb33c08"
      },
      "execution_count": 5,
      "outputs": [
        {
          "output_type": "stream",
          "name": "stdout",
          "text": [
            "NO             int64\n",
            "NAMA RUMAH    object\n",
            "HARGA          int64\n",
            "LB             int64\n",
            "LT             int64\n",
            "KT             int64\n",
            "KM             int64\n",
            "GRS            int64\n",
            "dtype: object\n"
          ]
        }
      ]
    },
    {
      "cell_type": "code",
      "source": [
        "features = ['LB', 'LT', 'KT', 'KM', 'GRS']\n",
        "x = data[features]\n",
        "y = data['HARGA']\n",
        "x.shape, y.shape"
      ],
      "metadata": {
        "colab": {
          "base_uri": "https://localhost:8080/"
        },
        "id": "qlIWTQZtu_yY",
        "outputId": "b811027a-4fbc-42c1-d482-1d399cbff229"
      },
      "execution_count": 6,
      "outputs": [
        {
          "output_type": "execute_result",
          "data": {
            "text/plain": [
              "((1010, 5), (1010,))"
            ]
          },
          "metadata": {},
          "execution_count": 6
        }
      ]
    },
    {
      "cell_type": "code",
      "source": [
        "from sklearn.model_selection import train_test_split\n",
        "train_x, test_x, train_y, test_y = train_test_split(x, y, random_state = 70)"
      ],
      "metadata": {
        "id": "Bv5lRN52vBbY"
      },
      "execution_count": 7,
      "outputs": []
    },
    {
      "cell_type": "code",
      "source": [
        "test_y.shape"
      ],
      "metadata": {
        "colab": {
          "base_uri": "https://localhost:8080/"
        },
        "id": "g7RzrAFPvEP6",
        "outputId": "ffc0a593-780d-41cd-8d02-ad8cb3019cdc"
      },
      "execution_count": 8,
      "outputs": [
        {
          "output_type": "execute_result",
          "data": {
            "text/plain": [
              "(253,)"
            ]
          },
          "metadata": {},
          "execution_count": 8
        }
      ]
    },
    {
      "cell_type": "code",
      "source": [
        "from sklearn.neighbors import KNeighborsRegressor as KNN_Reg\n",
        "from sklearn.metrics import mean_squared_error as mse\n",
        "\n",
        "model = KNN_Reg(n_neighbors = 80)\n",
        "\n",
        "# training the model:\n",
        "model.fit(train_x, train_y)\n",
        "acc1 = model.score(test_x, test_y)\n",
        "\n",
        "# test for prediction\n",
        "test_predict = model.predict(test_x)\n",
        "score = mse(test_predict, test_y)\n",
        "print(' MSE: ', score, '\\n', 'Accuracy: ', acc1)"
      ],
      "metadata": {
        "colab": {
          "base_uri": "https://localhost:8080/"
        },
        "id": "cvCFJhpUvHfs",
        "outputId": "ddd08a1a-e9d4-454b-a6c4-8fe83164f2d9"
      },
      "execution_count": 13,
      "outputs": [
        {
          "output_type": "stream",
          "name": "stdout",
          "text": [
            " MSE:  2.4619955282874122e+19 \n",
            " Accuracy:  0.5648983609498834\n"
          ]
        }
      ]
    },
    {
      "cell_type": "code",
      "source": [
        "def Elbow(K):\n",
        "  #initiating an empy list\n",
        "  test_mse =[]\n",
        "\n",
        "  #train model for every value of K\n",
        "  for i in K:\n",
        "    model = KNN_Reg(n_neighbors=i)\n",
        "    model.fit(train_x, train_y)\n",
        "    tmp = model.predict(test_x)\n",
        "    tmp = mse(tmp, test_y)\n",
        "    test_mse.append(tmp)\n",
        "\n",
        "  return test_mse"
      ],
      "metadata": {
        "id": "Tefjz-d0vhPO"
      },
      "execution_count": 14,
      "outputs": []
    },
    {
      "cell_type": "code",
      "source": [
        "K = range(80, 100)\n",
        "test = Elbow(K)\n",
        "\n",
        "#plotting\n",
        "plt.plot(K,test)\n",
        "plt.xlabel('K Neighbors')\n",
        "plt.ylabel('Mean Squared Error (MSE)')\n",
        "plt.title('Elbow Curve for Test')"
      ],
      "metadata": {
        "colab": {
          "base_uri": "https://localhost:8080/",
          "height": 489
        },
        "id": "87aVR9UevjY6",
        "outputId": "27f8e72e-28d1-4c06-e784-62da66b05fed"
      },
      "execution_count": 15,
      "outputs": [
        {
          "output_type": "execute_result",
          "data": {
            "text/plain": [
              "Text(0.5, 1.0, 'Elbow Curve for Test')"
            ]
          },
          "metadata": {},
          "execution_count": 15
        },
        {
          "output_type": "display_data",
          "data": {
            "text/plain": [
              "<Figure size 640x480 with 1 Axes>"
            ],
            "image/png": "[encoded data removed]"
          },
          "metadata": {}
        }
      ]
    },
    {
      "cell_type": "code",
      "source": [
        "new_model = KNN_Reg(n_neighbors=97)\n",
        "\n",
        "# Train model\n",
        "new_model.fit(train_x, train_y)\n",
        "acc2 = new_model.score(test_x, test_y)\n",
        "\n",
        "# Prediction test\n",
        "print(' Accuracy of new model (%):', acc2*100, '\\n', 'Accuracy of old model (%):', acc1*100, '\\n Improvement (%):', (acc2-acc1)*100)"
      ],
      "metadata": {
        "colab": {
          "base_uri": "https://localhost:8080/"
        },
        "id": "bvfW880rvxDl",
        "outputId": "18b5bc49-8dd4-4e23-a32d-8f0e04b4a2f2"
      },
      "execution_count": 16,
      "outputs": [
        {
          "output_type": "stream",
          "name": "stdout",
          "text": [
            " Accuracy of new model (%): 55.52881121120248 \n",
            " Accuracy of old model (%): 56.48983609498834 \n",
            " Improvement (%): -0.9610248837858659\n"
          ]
        }
      ]
    },
    {
      "cell_type": "code",
      "source": [
        "datarumah = np.array([[450,550,110,10,3]])\n",
        "prediction_old = model.predict(datarumah)\n",
        "prediction_new = new_model.predict(datarumah)\n",
        "print(' Hasil Prediksi harga rumah dengan old model yaitu: Rp', prediction_old * 19110*1e-6, 'Juta\\n',\n",
        "      'Hasil Prediksi harga rumah dengan new model yaitu: Rp', prediction_new * 19110*1e-6, 'Juta')"
      ],
      "metadata": {
        "colab": {
          "base_uri": "https://localhost:8080/"
        },
        "id": "00VGqLstwAC-",
        "outputId": "79718135-7846-4c2e-ad03-3ae325821924"
      },
      "execution_count": 18,
      "outputs": [
        {
          "output_type": "stream",
          "name": "stdout",
          "text": [
            " Hasil Prediksi harga rumah dengan old model yaitu: Rp [3.16303942e+08] Juta\n",
            " Hasil Prediksi harga rumah dengan new model yaitu: Rp [2.975427e+08] Juta\n"
          ]
        },
        {
          "output_type": "stream",
          "name": "stderr",
          "text": [
            "/usr/local/lib/python3.10/dist-packages/sklearn/base.py:439: UserWarning: X does not have valid feature names, but KNeighborsRegressor was fitted with feature names\n",
            "  warnings.warn(\n",
            "/usr/local/lib/python3.10/dist-packages/sklearn/base.py:439: UserWarning: X does not have valid feature names, but KNeighborsRegressor was fitted with feature names\n",
            "  warnings.warn(\n"
          ]
        }
      ]
    },
    {
      "cell_type": "code",
      "source": [
        "datarumah = np.array([[800,900,200,20,6]])\n",
        "prediction_old = model.predict(datarumah)\n",
        "prediction_new = new_model.predict(datarumah)\n",
        "print(' Hasil Prediksi harga rumah dengan old model yaitu: Rp', prediction_old * 19110*1e-6, 'Juta\\n',\n",
        "      'Hasil Prediksi harga rumah dengan new model yaitu: Rp', prediction_new * 19110*1e-6, 'Juta')"
      ],
      "metadata": {
        "colab": {
          "base_uri": "https://localhost:8080/"
        },
        "id": "95CYH8XbwKkV",
        "outputId": "73e16d21-3ba3-4d50-c80a-26ceb43994fc"
      },
      "execution_count": 19,
      "outputs": [
        {
          "output_type": "stream",
          "name": "stdout",
          "text": [
            " Hasil Prediksi harga rumah dengan old model yaitu: Rp [4.30297481e+08] Juta\n",
            " Hasil Prediksi harga rumah dengan new model yaitu: Rp [4.01910882e+08] Juta\n"
          ]
        },
        {
          "output_type": "stream",
          "name": "stderr",
          "text": [
            "/usr/local/lib/python3.10/dist-packages/sklearn/base.py:439: UserWarning: X does not have valid feature names, but KNeighborsRegressor was fitted with feature names\n",
            "  warnings.warn(\n",
            "/usr/local/lib/python3.10/dist-packages/sklearn/base.py:439: UserWarning: X does not have valid feature names, but KNeighborsRegressor was fitted with feature names\n",
            "  warnings.warn(\n"
          ]
        }
      ]
    },
    {
      "cell_type": "code",
      "source": [
        "datarumah = np.array([[200,300,50,5,1]])\n",
        "prediction_old = model.predict(datarumah)\n",
        "prediction_new = new_model.predict(datarumah)\n",
        "print(' Hasil Prediksi harga rumah dengan old model yaitu: Rp', prediction_old * 19110*1e-6, 'Juta\\n',\n",
        "      'Hasil Prediksi harga rumah dengan new model yaitu: Rp', prediction_new * 19110*1e-6, 'Juta')"
      ],
      "metadata": {
        "colab": {
          "base_uri": "https://localhost:8080/"
        },
        "id": "ENf-YNc0wQ9M",
        "outputId": "b513e8cf-3116-4c01-f203-016992f6c67e"
      },
      "execution_count": 20,
      "outputs": [
        {
          "output_type": "stream",
          "name": "stdout",
          "text": [
            " Hasil Prediksi harga rumah dengan old model yaitu: Rp [1.39706044e+08] Juta\n",
            " Hasil Prediksi harga rumah dengan new model yaitu: Rp [1.36095816e+08] Juta\n"
          ]
        },
        {
          "output_type": "stream",
          "name": "stderr",
          "text": [
            "/usr/local/lib/python3.10/dist-packages/sklearn/base.py:439: UserWarning: X does not have valid feature names, but KNeighborsRegressor was fitted with feature names\n",
            "  warnings.warn(\n",
            "/usr/local/lib/python3.10/dist-packages/sklearn/base.py:439: UserWarning: X does not have valid feature names, but KNeighborsRegressor was fitted with feature names\n",
            "  warnings.warn(\n"
          ]
        }
      ]
    }
  ]
}